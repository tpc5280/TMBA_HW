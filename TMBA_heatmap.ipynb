{
 "cells": [
  {
   "cell_type": "code",
   "execution_count": null,
   "id": "e30f1ec8",
   "metadata": {},
   "outputs": [],
   "source": [
    "import pandas as pd\n",
    "from pandas.core.frame import DataFrame\n",
    "import numpy as np\n",
    "import math\n",
    "import statistics\n",
    "import matplotlib.pyplot as plt\n",
    "import zipfile\n",
    "from datetime import datetime\n",
    "import seaborn as sns"
   ]
  },
  {
   "cell_type": "code",
   "execution_count": null,
   "id": "436bcbf8",
   "metadata": {},
   "outputs": [],
   "source": [
    "## TXF\n",
    "data = pd.read_csv('C:/Users/ASUS/Desktop/TXF1-分鐘-成交價.txt')\n",
    "data.head()"
   ]
  },
  {
   "cell_type": "code",
   "execution_count": null,
   "id": "b575377b",
   "metadata": {},
   "outputs": [],
   "source": [
    "## TotalVolume改Volume\n",
    "data = data.rename(columns = dict(zip(data.columns, ['Date', 'Time', 'Open', 'High', 'Low', 'Close', 'Volume'])))\n",
    "## 將index改為時間\n",
    "data.Date = pd.to_datetime(data.Date)\n",
    "data.Time = pd.to_timedelta(data.Time)\n",
    "data = data.set_index(data.Date + data.Time).drop(columns = ['Date','Time'])\n",
    "\n",
    "## 用map抓時間資料\n",
    "data['Year'] = data.index.map(lambda x: x.year)\n",
    "data['Month'] = data.index.map(lambda x: x.month)\n",
    "data['Weekday'] = data.index.map(lambda x: x.weekday)+1\n",
    "data['Hour'] = data.index.map(lambda x: x.hour)\n",
    "data.head()"
   ]
  },
  {
   "cell_type": "code",
   "execution_count": null,
   "id": "dd344833",
   "metadata": {},
   "outputs": [],
   "source": [
    "## FOI\n",
    "FOI = pd.read_csv('C:/Users/ASUS/Desktop/Foreign_OI.txt')\n",
    "FOI.head()"
   ]
  },
  {
   "cell_type": "code",
   "execution_count": null,
   "id": "326db2cc",
   "metadata": {},
   "outputs": [],
   "source": [
    "## 將index改為時間\n",
    "FOI.index = pd.to_datetime(FOI.Date)\n",
    "FOI = FOI.drop(columns = ['Unnamed: 0','Date'])\n",
    "FOI"
   ]
  },
  {
   "cell_type": "code",
   "execution_count": null,
   "id": "8117a9db",
   "metadata": {},
   "outputs": [],
   "source": [
    "#data.columns  ### ['Open', 'High', 'Low', 'Close', 'Volume', 'Year', 'Month', 'Weekday','Hour']\n",
    "## 把data轉成日K\n",
    "data = data.drop(columns = ['Year', 'Month', 'Weekday','Hour'])\n",
    "data = data.resample('1d').agg(dict(zip(data.columns, ['first','max','min','last','sum'])))\n",
    "data"
   ]
  },
  {
   "cell_type": "code",
   "execution_count": null,
   "id": "e19d511c",
   "metadata": {},
   "outputs": [],
   "source": [
    "## 再把日K資料和外資未平倉量資料合併\n",
    "df = pd.concat([data.Close, FOI.Foreign_OI], axis = 1, join = 'inner')\n",
    "df"
   ]
  },
  {
   "cell_type": "code",
   "execution_count": null,
   "id": "5651e3a4",
   "metadata": {},
   "outputs": [],
   "source": [
    "## 高原圖\n",
    "# Make the plot\n",
    "x_sma = []\n",
    "y_lma = []\n",
    "z_RonMDD = []\n",
    "\n",
    "## i短天期範圍，j長天期範圍\n",
    "for i in range(5,45,5):\n",
    "    for j in range(60,125,5):\n",
    "        \n",
    "        N1 = i\n",
    "        N2 = j\n",
    "        df['SMA'] = df.Foreign_OI.rolling(N1).mean().dropna()\n",
    "        df['LMA'] = df.Foreign_OI.rolling(N2).mean().dropna()\n",
    "        \n",
    "        signal = np.where((df.SMA >= df.LMA), 1, -1)\n",
    "        signal_df = pd.Series(signal, index = df.index)\n",
    "        \n",
    "        return_df = pd.concat([df.Close.pct_change(), signal_df.shift(2)], axis = 1).dropna()\n",
    "        return_df.columns = ['d_return','position']\n",
    "        return_df['return'] = return_df.d_return * return_df.position\n",
    "        \n",
    "        \n",
    "        MDD_series = return_df['return'].dropna().cumsum().cummax()-return_df['return'].dropna().cumsum()\n",
    "        MDD = max(MDD_series)\n",
    "        Return_on_MDD = return_df['return'].dropna().cumsum()[-1] / MDD\n",
    "\n",
    "        x_sma.append(i)\n",
    "        y_lma.append(j)\n",
    "        z_RonMDD.append(Return_on_MDD)"
   ]
  },
  {
   "cell_type": "code",
   "execution_count": null,
   "id": "ab34572d",
   "metadata": {},
   "outputs": [],
   "source": [
    "xyz = {\"sma\" : x_sma,\n",
    "       \"lma\" : y_lma,\n",
    "       \"Return/MDD\" : z_RonMDD}\n",
    "xyz_data = DataFrame(xyz)\n",
    "xyz_data"
   ]
  },
  {
   "cell_type": "code",
   "execution_count": null,
   "id": "365cb98b",
   "metadata": {},
   "outputs": [],
   "source": [
    "xyz_data_wide = xyz_data.pivot_table( index='sma', columns='lma', values='Return/MDD')\n",
    "sns.heatmap(xyz_data_wide)\n",
    "plt.show()"
   ]
  },
  {
   "cell_type": "code",
   "execution_count": null,
   "id": "fe24e364",
   "metadata": {},
   "outputs": [],
   "source": []
  }
 ],
 "metadata": {
  "kernelspec": {
   "display_name": "Python 3",
   "language": "python",
   "name": "python3"
  },
  "language_info": {
   "codemirror_mode": {
    "name": "ipython",
    "version": 3
   },
   "file_extension": ".py",
   "mimetype": "text/x-python",
   "name": "python",
   "nbconvert_exporter": "python",
   "pygments_lexer": "ipython3",
   "version": "3.8.8"
  }
 },
 "nbformat": 4,
 "nbformat_minor": 5
}
